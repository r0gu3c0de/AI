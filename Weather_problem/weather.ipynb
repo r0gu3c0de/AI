{
 "cells": [
  {
   "cell_type": "code",
   "execution_count": 333,
   "metadata": {},
   "outputs": [],
   "source": [
    "import pandas as pd\n",
    "from sklearn.model_selection import train_test_split\n",
    "from sklearn.linear_model import LinearRegression\n",
    "from sklearn.tree import DecisionTreeRegressor\n",
    "from sklearn.preprocessing import MinMaxScaler, MaxAbsScaler\n",
    "from sklearn.model_selection import cross_validate, cross_val_score\n",
    "import matplotlib.pyplot as plt"
   ]
  },
  {
   "cell_type": "code",
   "execution_count": 334,
   "metadata": {},
   "outputs": [
    {
     "data": {
      "text/html": [
       "<div>\n",
       "<style scoped>\n",
       "    .dataframe tbody tr th:only-of-type {\n",
       "        vertical-align: middle;\n",
       "    }\n",
       "\n",
       "    .dataframe tbody tr th {\n",
       "        vertical-align: top;\n",
       "    }\n",
       "\n",
       "    .dataframe thead th {\n",
       "        text-align: right;\n",
       "    }\n",
       "</style>\n",
       "<table border=\"1\" class=\"dataframe\">\n",
       "  <thead>\n",
       "    <tr style=\"text-align: right;\">\n",
       "      <th></th>\n",
       "      <th>AT</th>\n",
       "      <th>V</th>\n",
       "      <th>AP</th>\n",
       "      <th>RH</th>\n",
       "      <th>PE</th>\n",
       "    </tr>\n",
       "  </thead>\n",
       "  <tbody>\n",
       "    <tr>\n",
       "      <th>0</th>\n",
       "      <td>14.96</td>\n",
       "      <td>41.76</td>\n",
       "      <td>1024.07</td>\n",
       "      <td>73.17</td>\n",
       "      <td>463.26</td>\n",
       "    </tr>\n",
       "    <tr>\n",
       "      <th>1</th>\n",
       "      <td>25.18</td>\n",
       "      <td>62.96</td>\n",
       "      <td>1020.04</td>\n",
       "      <td>59.08</td>\n",
       "      <td>444.37</td>\n",
       "    </tr>\n",
       "    <tr>\n",
       "      <th>2</th>\n",
       "      <td>5.11</td>\n",
       "      <td>39.40</td>\n",
       "      <td>1012.16</td>\n",
       "      <td>92.14</td>\n",
       "      <td>488.56</td>\n",
       "    </tr>\n",
       "    <tr>\n",
       "      <th>3</th>\n",
       "      <td>20.86</td>\n",
       "      <td>57.32</td>\n",
       "      <td>1010.24</td>\n",
       "      <td>76.64</td>\n",
       "      <td>446.48</td>\n",
       "    </tr>\n",
       "    <tr>\n",
       "      <th>4</th>\n",
       "      <td>10.82</td>\n",
       "      <td>37.50</td>\n",
       "      <td>1009.23</td>\n",
       "      <td>96.62</td>\n",
       "      <td>473.90</td>\n",
       "    </tr>\n",
       "    <tr>\n",
       "      <th>...</th>\n",
       "      <td>...</td>\n",
       "      <td>...</td>\n",
       "      <td>...</td>\n",
       "      <td>...</td>\n",
       "      <td>...</td>\n",
       "    </tr>\n",
       "    <tr>\n",
       "      <th>9563</th>\n",
       "      <td>16.65</td>\n",
       "      <td>49.69</td>\n",
       "      <td>1014.01</td>\n",
       "      <td>91.00</td>\n",
       "      <td>460.03</td>\n",
       "    </tr>\n",
       "    <tr>\n",
       "      <th>9564</th>\n",
       "      <td>13.19</td>\n",
       "      <td>39.18</td>\n",
       "      <td>1023.67</td>\n",
       "      <td>66.78</td>\n",
       "      <td>469.62</td>\n",
       "    </tr>\n",
       "    <tr>\n",
       "      <th>9565</th>\n",
       "      <td>31.32</td>\n",
       "      <td>74.33</td>\n",
       "      <td>1012.92</td>\n",
       "      <td>36.48</td>\n",
       "      <td>429.57</td>\n",
       "    </tr>\n",
       "    <tr>\n",
       "      <th>9566</th>\n",
       "      <td>24.48</td>\n",
       "      <td>69.45</td>\n",
       "      <td>1013.86</td>\n",
       "      <td>62.39</td>\n",
       "      <td>435.74</td>\n",
       "    </tr>\n",
       "    <tr>\n",
       "      <th>9567</th>\n",
       "      <td>21.60</td>\n",
       "      <td>62.52</td>\n",
       "      <td>1017.23</td>\n",
       "      <td>67.87</td>\n",
       "      <td>453.28</td>\n",
       "    </tr>\n",
       "  </tbody>\n",
       "</table>\n",
       "<p>9568 rows × 5 columns</p>\n",
       "</div>"
      ],
      "text/plain": [
       "         AT      V       AP     RH      PE\n",
       "0     14.96  41.76  1024.07  73.17  463.26\n",
       "1     25.18  62.96  1020.04  59.08  444.37\n",
       "2      5.11  39.40  1012.16  92.14  488.56\n",
       "3     20.86  57.32  1010.24  76.64  446.48\n",
       "4     10.82  37.50  1009.23  96.62  473.90\n",
       "...     ...    ...      ...    ...     ...\n",
       "9563  16.65  49.69  1014.01  91.00  460.03\n",
       "9564  13.19  39.18  1023.67  66.78  469.62\n",
       "9565  31.32  74.33  1012.92  36.48  429.57\n",
       "9566  24.48  69.45  1013.86  62.39  435.74\n",
       "9567  21.60  62.52  1017.23  67.87  453.28\n",
       "\n",
       "[9568 rows x 5 columns]"
      ]
     },
     "execution_count": 334,
     "metadata": {},
     "output_type": "execute_result"
    }
   ],
   "source": [
    "#Load data frame\n",
    "df = pd.read_csv('CCPP_data.csv')\n",
    "df"
   ]
  },
  {
   "cell_type": "code",
   "execution_count": 335,
   "metadata": {},
   "outputs": [
    {
     "data": {
      "text/html": [
       "<div>\n",
       "<style scoped>\n",
       "    .dataframe tbody tr th:only-of-type {\n",
       "        vertical-align: middle;\n",
       "    }\n",
       "\n",
       "    .dataframe tbody tr th {\n",
       "        vertical-align: top;\n",
       "    }\n",
       "\n",
       "    .dataframe thead th {\n",
       "        text-align: right;\n",
       "    }\n",
       "</style>\n",
       "<table border=\"1\" class=\"dataframe\">\n",
       "  <thead>\n",
       "    <tr style=\"text-align: right;\">\n",
       "      <th></th>\n",
       "      <th>AT</th>\n",
       "      <th>V</th>\n",
       "      <th>AP</th>\n",
       "      <th>RH</th>\n",
       "      <th>PE</th>\n",
       "    </tr>\n",
       "  </thead>\n",
       "  <tbody>\n",
       "    <tr>\n",
       "      <th>0</th>\n",
       "      <td>37.252125</td>\n",
       "      <td>29.181495</td>\n",
       "      <td>77.159119</td>\n",
       "      <td>63.820375</td>\n",
       "      <td>56.953642</td>\n",
       "    </tr>\n",
       "    <tr>\n",
       "      <th>1</th>\n",
       "      <td>66.203966</td>\n",
       "      <td>66.903915</td>\n",
       "      <td>67.186340</td>\n",
       "      <td>44.932976</td>\n",
       "      <td>31.933775</td>\n",
       "    </tr>\n",
       "    <tr>\n",
       "      <th>2</th>\n",
       "      <td>9.348442</td>\n",
       "      <td>24.982206</td>\n",
       "      <td>47.686216</td>\n",
       "      <td>89.249330</td>\n",
       "      <td>90.463576</td>\n",
       "    </tr>\n",
       "    <tr>\n",
       "      <th>3</th>\n",
       "      <td>53.966006</td>\n",
       "      <td>56.868327</td>\n",
       "      <td>42.934917</td>\n",
       "      <td>68.471850</td>\n",
       "      <td>34.728477</td>\n",
       "    </tr>\n",
       "    <tr>\n",
       "      <th>4</th>\n",
       "      <td>25.524079</td>\n",
       "      <td>21.601423</td>\n",
       "      <td>40.435536</td>\n",
       "      <td>95.254692</td>\n",
       "      <td>71.046358</td>\n",
       "    </tr>\n",
       "    <tr>\n",
       "      <th>...</th>\n",
       "      <td>...</td>\n",
       "      <td>...</td>\n",
       "      <td>...</td>\n",
       "      <td>...</td>\n",
       "      <td>...</td>\n",
       "    </tr>\n",
       "    <tr>\n",
       "      <th>9563</th>\n",
       "      <td>42.039660</td>\n",
       "      <td>43.291815</td>\n",
       "      <td>52.264291</td>\n",
       "      <td>87.721180</td>\n",
       "      <td>52.675497</td>\n",
       "    </tr>\n",
       "    <tr>\n",
       "      <th>9564</th>\n",
       "      <td>32.237960</td>\n",
       "      <td>24.590747</td>\n",
       "      <td>76.169265</td>\n",
       "      <td>55.254692</td>\n",
       "      <td>65.377483</td>\n",
       "    </tr>\n",
       "    <tr>\n",
       "      <th>9565</th>\n",
       "      <td>83.597734</td>\n",
       "      <td>87.135231</td>\n",
       "      <td>49.566939</td>\n",
       "      <td>14.638070</td>\n",
       "      <td>12.331126</td>\n",
       "    </tr>\n",
       "    <tr>\n",
       "      <th>9566</th>\n",
       "      <td>64.220963</td>\n",
       "      <td>78.451957</td>\n",
       "      <td>51.893096</td>\n",
       "      <td>49.369973</td>\n",
       "      <td>20.503311</td>\n",
       "    </tr>\n",
       "    <tr>\n",
       "      <th>9567</th>\n",
       "      <td>56.062323</td>\n",
       "      <td>66.120996</td>\n",
       "      <td>60.232616</td>\n",
       "      <td>56.715818</td>\n",
       "      <td>43.735099</td>\n",
       "    </tr>\n",
       "  </tbody>\n",
       "</table>\n",
       "<p>9568 rows × 5 columns</p>\n",
       "</div>"
      ],
      "text/plain": [
       "             AT          V         AP         RH         PE\n",
       "0     37.252125  29.181495  77.159119  63.820375  56.953642\n",
       "1     66.203966  66.903915  67.186340  44.932976  31.933775\n",
       "2      9.348442  24.982206  47.686216  89.249330  90.463576\n",
       "3     53.966006  56.868327  42.934917  68.471850  34.728477\n",
       "4     25.524079  21.601423  40.435536  95.254692  71.046358\n",
       "...         ...        ...        ...        ...        ...\n",
       "9563  42.039660  43.291815  52.264291  87.721180  52.675497\n",
       "9564  32.237960  24.590747  76.169265  55.254692  65.377483\n",
       "9565  83.597734  87.135231  49.566939  14.638070  12.331126\n",
       "9566  64.220963  78.451957  51.893096  49.369973  20.503311\n",
       "9567  56.062323  66.120996  60.232616  56.715818  43.735099\n",
       "\n",
       "[9568 rows x 5 columns]"
      ]
     },
     "execution_count": 335,
     "metadata": {},
     "output_type": "execute_result"
    }
   ],
   "source": [
    "# Normalize data in two ways\n",
    "df_normalize_min_max = df.copy()\n",
    "df_normalize_max_abs = df.copy()\n",
    "MinMaxScaler(feature_range=(0,100),copy=False).fit_transform(df_normalize_min_max)\n",
    "MaxAbsScaler(copy=False).fit_transform(df_normalize_max_abs)\n",
    "df_normalize_min_max\n"
   ]
  },
  {
   "cell_type": "code",
   "execution_count": 336,
   "metadata": {},
   "outputs": [],
   "source": [
    "# Split the targeted feature\n",
    "df_output_min_max = df_normalize_min_max['PE']\n",
    "df_output_max_abs = df_normalize_max_abs['PE']\n",
    "df_normalize_min_max.drop('PE', inplace=True, axis=1)\n",
    "df_normalize_max_abs.drop('PE', inplace=True, axis=1)"
   ]
  },
  {
   "cell_type": "code",
   "execution_count": 337,
   "metadata": {},
   "outputs": [
    {
     "data": {
      "text/html": [
       "<div>\n",
       "<style scoped>\n",
       "    .dataframe tbody tr th:only-of-type {\n",
       "        vertical-align: middle;\n",
       "    }\n",
       "\n",
       "    .dataframe tbody tr th {\n",
       "        vertical-align: top;\n",
       "    }\n",
       "\n",
       "    .dataframe thead th {\n",
       "        text-align: right;\n",
       "    }\n",
       "</style>\n",
       "<table border=\"1\" class=\"dataframe\">\n",
       "  <thead>\n",
       "    <tr style=\"text-align: right;\">\n",
       "      <th></th>\n",
       "      <th>AT</th>\n",
       "      <th>V</th>\n",
       "      <th>AP</th>\n",
       "      <th>RH</th>\n",
       "    </tr>\n",
       "  </thead>\n",
       "  <tbody>\n",
       "    <tr>\n",
       "      <th>0</th>\n",
       "      <td>0.403126</td>\n",
       "      <td>0.512016</td>\n",
       "      <td>0.991067</td>\n",
       "      <td>0.730531</td>\n",
       "    </tr>\n",
       "    <tr>\n",
       "      <th>1</th>\n",
       "      <td>0.678523</td>\n",
       "      <td>0.771947</td>\n",
       "      <td>0.987167</td>\n",
       "      <td>0.589856</td>\n",
       "    </tr>\n",
       "    <tr>\n",
       "      <th>2</th>\n",
       "      <td>0.137699</td>\n",
       "      <td>0.483080</td>\n",
       "      <td>0.979541</td>\n",
       "      <td>0.919928</td>\n",
       "    </tr>\n",
       "    <tr>\n",
       "      <th>3</th>\n",
       "      <td>0.562113</td>\n",
       "      <td>0.702795</td>\n",
       "      <td>0.977683</td>\n",
       "      <td>0.765176</td>\n",
       "    </tr>\n",
       "    <tr>\n",
       "      <th>4</th>\n",
       "      <td>0.291566</td>\n",
       "      <td>0.459784</td>\n",
       "      <td>0.976706</td>\n",
       "      <td>0.964657</td>\n",
       "    </tr>\n",
       "    <tr>\n",
       "      <th>...</th>\n",
       "      <td>...</td>\n",
       "      <td>...</td>\n",
       "      <td>...</td>\n",
       "      <td>...</td>\n",
       "    </tr>\n",
       "    <tr>\n",
       "      <th>9563</th>\n",
       "      <td>0.448666</td>\n",
       "      <td>0.609245</td>\n",
       "      <td>0.981332</td>\n",
       "      <td>0.908546</td>\n",
       "    </tr>\n",
       "    <tr>\n",
       "      <th>9564</th>\n",
       "      <td>0.355430</td>\n",
       "      <td>0.480383</td>\n",
       "      <td>0.990680</td>\n",
       "      <td>0.666733</td>\n",
       "    </tr>\n",
       "    <tr>\n",
       "      <th>9565</th>\n",
       "      <td>0.843977</td>\n",
       "      <td>0.911354</td>\n",
       "      <td>0.980277</td>\n",
       "      <td>0.364217</td>\n",
       "    </tr>\n",
       "    <tr>\n",
       "      <th>9566</th>\n",
       "      <td>0.659660</td>\n",
       "      <td>0.851520</td>\n",
       "      <td>0.981186</td>\n",
       "      <td>0.622903</td>\n",
       "    </tr>\n",
       "    <tr>\n",
       "      <th>9567</th>\n",
       "      <td>0.582053</td>\n",
       "      <td>0.766552</td>\n",
       "      <td>0.984448</td>\n",
       "      <td>0.677616</td>\n",
       "    </tr>\n",
       "  </tbody>\n",
       "</table>\n",
       "<p>9568 rows × 4 columns</p>\n",
       "</div>"
      ],
      "text/plain": [
       "            AT         V        AP        RH\n",
       "0     0.403126  0.512016  0.991067  0.730531\n",
       "1     0.678523  0.771947  0.987167  0.589856\n",
       "2     0.137699  0.483080  0.979541  0.919928\n",
       "3     0.562113  0.702795  0.977683  0.765176\n",
       "4     0.291566  0.459784  0.976706  0.964657\n",
       "...        ...       ...       ...       ...\n",
       "9563  0.448666  0.609245  0.981332  0.908546\n",
       "9564  0.355430  0.480383  0.990680  0.666733\n",
       "9565  0.843977  0.911354  0.980277  0.364217\n",
       "9566  0.659660  0.851520  0.981186  0.622903\n",
       "9567  0.582053  0.766552  0.984448  0.677616\n",
       "\n",
       "[9568 rows x 4 columns]"
      ]
     },
     "execution_count": 337,
     "metadata": {},
     "output_type": "execute_result"
    }
   ],
   "source": [
    "df_normalize_max_abs"
   ]
  },
  {
   "cell_type": "code",
   "execution_count": 338,
   "metadata": {},
   "outputs": [],
   "source": [
    "# We create our models\n",
    "linear = LinearRegression()"
   ]
  },
  {
   "cell_type": "code",
   "execution_count": 339,
   "metadata": {},
   "outputs": [],
   "source": [
    "# We split our data\n",
    "x_train_minmax, x_test_minmax, y_train_minmax, y_test_minmax = train_test_split(df_normalize_min_max, df_output_min_max ,test_size=0.2)\n",
    "x_train_maxabs, x_test_maxabs, y_train_maxabs, y_test_maxabs = train_test_split(df_normalize_max_abs, df_output_max_abs ,test_size=0.2)\n"
   ]
  },
  {
   "cell_type": "code",
   "execution_count": 340,
   "metadata": {},
   "outputs": [],
   "source": [
    "# We try our linear model\n",
    "linear.fit(x_train_minmax, y_train_minmax)\n",
    "\n",
    "y_l_min_max = linear.predict(x_test_minmax)\n"
   ]
  },
  {
   "cell_type": "code",
   "execution_count": 341,
   "metadata": {},
   "outputs": [
    {
     "name": "stdout",
     "output_type": "stream",
     "text": [
      "Mean squared error from all 4 validations [31.83648201 39.36555656 34.48608364 41.37321267]\n",
      "Mean absolute error from all 4 validations [4.61682289 4.8434267  4.78342121 4.90495868]\n",
      "R2 score from all 4 validations [0.9361069  0.91752266 0.93521511 0.92382761]\n",
      "0.93 accuracy with a standard deviation of 0.01\n"
     ]
    }
   ],
   "source": [
    "linear_scores = cross_validate(linear, x_test_minmax, y_test_minmax, cv=4, scoring=['neg_mean_absolute_error', 'neg_mean_squared_error', 'r2'])\n",
    "linear_score = cross_val_score(linear, x_test_minmax, y_test_minmax, cv=4)\n",
    "print('Mean squared error from all 4 validations',abs(linear_scores['test_neg_mean_squared_error']))\n",
    "print('Mean absolute error from all 4 validations',abs(linear_scores['test_neg_mean_absolute_error']))\n",
    "print('R2 score from all 4 validations', linear_scores['test_r2'])\n",
    "print(\"%0.2f accuracy with a standard deviation of %0.2f\" % (linear_score.mean(), linear_score.std()))"
   ]
  },
  {
   "cell_type": "code",
   "execution_count": 342,
   "metadata": {},
   "outputs": [
    {
     "data": {
      "text/plain": [
       "<BarContainer object of 1914 artists>"
      ]
     },
     "execution_count": 342,
     "metadata": {},
     "output_type": "execute_result"
    },
    {
     "data": {
      "image/png": "[encoded data removed]",
      "text/plain": [
       "<Figure size 640x480 with 2 Axes>"
      ]
     },
     "metadata": {},
     "output_type": "display_data"
    }
   ],
   "source": [
    "fig, axs = plt.subplots(1,2)\n",
    "fig.tight_layout(pad=2)\n",
    "axs[0].bar(x_test_minmax['AT'], y_l_min_max, color='red')\n",
    "axs[1].bar(x_test_minmax['AT'], y_test_minmax, color='blue')"
   ]
  },
  {
   "cell_type": "code",
   "execution_count": 343,
   "metadata": {},
   "outputs": [
    {
     "data": {
      "text/plain": [
       "<BarContainer object of 1914 artists>"
      ]
     },
     "execution_count": 343,
     "metadata": {},
     "output_type": "execute_result"
    },
    {
     "data": {
      "image/png": "[encoded data removed]",
      "text/plain": [
       "<Figure size 640x480 with 2 Axes>"
      ]
     },
     "metadata": {},
     "output_type": "display_data"
    }
   ],
   "source": [
    "fig, axs = plt.subplots(1,2)\n",
    "fig.tight_layout(pad=2)\n",
    "axs[0].bar(x_test_minmax['V'], y_l_min_max, color='red')\n",
    "axs[1].bar(x_test_minmax['V'], y_test_minmax, color='blue')"
   ]
  },
  {
   "cell_type": "code",
   "execution_count": 344,
   "metadata": {},
   "outputs": [
    {
     "data": {
      "text/plain": [
       "<BarContainer object of 1914 artists>"
      ]
     },
     "execution_count": 344,
     "metadata": {},
     "output_type": "execute_result"
    },
    {
     "data": {
      "image/png": "[encoded data removed]",
      "text/plain": [
       "<Figure size 640x480 with 2 Axes>"
      ]
     },
     "metadata": {},
     "output_type": "display_data"
    }
   ],
   "source": [
    "fig, axs = plt.subplots(1,2)\n",
    "fig.tight_layout(pad=2)\n",
    "axs[0].bar(x_test_minmax['AP'], y_l_min_max, color='red')\n",
    "axs[1].bar(x_test_minmax['AP'], y_test_minmax, color='blue')"
   ]
  },
  {
   "cell_type": "code",
   "execution_count": 345,
   "metadata": {},
   "outputs": [
    {
     "data": {
      "text/plain": [
       "<BarContainer object of 1914 artists>"
      ]
     },
     "execution_count": 345,
     "metadata": {},
     "output_type": "execute_result"
    },
    {
     "data": {
      "image/png": "[encoded data removed]",
      "text/plain": [
       "<Figure size 640x480 with 2 Axes>"
      ]
     },
     "metadata": {},
     "output_type": "display_data"
    }
   ],
   "source": [
    "fig, axs = plt.subplots(1,2)\n",
    "fig.tight_layout(pad=2)\n",
    "axs[0].bar(x_test_minmax['RH'], y_l_min_max, color='red')\n",
    "axs[1].bar(x_test_minmax['RH'], y_test_minmax, color='blue')"
   ]
  },
  {
   "cell_type": "code",
   "execution_count": 346,
   "metadata": {},
   "outputs": [],
   "source": [
    "# We try our decision tree model\n",
    "\n",
    "tree = DecisionTreeRegressor()\n",
    "tree1 = DecisionTreeRegressor(criterion='absolute_error')\n",
    "tree2 = DecisionTreeRegressor(criterion='poisson')\n",
    "\n",
    "tree3 = DecisionTreeRegressor(min_samples_split=10)\n",
    "tree4 = DecisionTreeRegressor(criterion='absolute_error', min_samples_split=10)\n",
    "tree5 = DecisionTreeRegressor(criterion='poisson', min_samples_split=10)\n"
   ]
  },
  {
   "cell_type": "code",
   "execution_count": 347,
   "metadata": {},
   "outputs": [
    {
     "data": {
      "text/html": [
       "<style>#sk-container-id-7 {color: black;background-color: white;}#sk-container-id-7 pre{padding: 0;}#sk-container-id-7 div.sk-toggleable {background-color: white;}#sk-container-id-7 label.sk-toggleable__label {cursor: pointer;display: block;width: 100%;margin-bottom: 0;padding: 0.3em;box-sizing: border-box;text-align: center;}#sk-container-id-7 label.sk-toggleable__label-arrow:before {content: \"▸\";float: left;margin-right: 0.25em;color: #696969;}#sk-container-id-7 label.sk-toggleable__label-arrow:hover:before {color: black;}#sk-container-id-7 div.sk-estimator:hover label.sk-toggleable__label-arrow:before {color: black;}#sk-container-id-7 div.sk-toggleable__content {max-height: 0;max-width: 0;overflow: hidden;text-align: left;background-color: #f0f8ff;}#sk-container-id-7 div.sk-toggleable__content pre {margin: 0.2em;color: black;border-radius: 0.25em;background-color: #f0f8ff;}#sk-container-id-7 input.sk-toggleable__control:checked~div.sk-toggleable__content {max-height: 200px;max-width: 100%;overflow: auto;}#sk-container-id-7 input.sk-toggleable__control:checked~label.sk-toggleable__label-arrow:before {content: \"▾\";}#sk-container-id-7 div.sk-estimator input.sk-toggleable__control:checked~label.sk-toggleable__label {background-color: #d4ebff;}#sk-container-id-7 div.sk-label input.sk-toggleable__control:checked~label.sk-toggleable__label {background-color: #d4ebff;}#sk-container-id-7 input.sk-hidden--visually {border: 0;clip: rect(1px 1px 1px 1px);clip: rect(1px, 1px, 1px, 1px);height: 1px;margin: -1px;overflow: hidden;padding: 0;position: absolute;width: 1px;}#sk-container-id-7 div.sk-estimator {font-family: monospace;background-color: #f0f8ff;border: 1px dotted black;border-radius: 0.25em;box-sizing: border-box;margin-bottom: 0.5em;}#sk-container-id-7 div.sk-estimator:hover {background-color: #d4ebff;}#sk-container-id-7 div.sk-parallel-item::after {content: \"\";width: 100%;border-bottom: 1px solid gray;flex-grow: 1;}#sk-container-id-7 div.sk-label:hover label.sk-toggleable__label {background-color: #d4ebff;}#sk-container-id-7 div.sk-serial::before {content: \"\";position: absolute;border-left: 1px solid gray;box-sizing: border-box;top: 0;bottom: 0;left: 50%;z-index: 0;}#sk-container-id-7 div.sk-serial {display: flex;flex-direction: column;align-items: center;background-color: white;padding-right: 0.2em;padding-left: 0.2em;position: relative;}#sk-container-id-7 div.sk-item {position: relative;z-index: 1;}#sk-container-id-7 div.sk-parallel {display: flex;align-items: stretch;justify-content: center;background-color: white;position: relative;}#sk-container-id-7 div.sk-item::before, #sk-container-id-7 div.sk-parallel-item::before {content: \"\";position: absolute;border-left: 1px solid gray;box-sizing: border-box;top: 0;bottom: 0;left: 50%;z-index: -1;}#sk-container-id-7 div.sk-parallel-item {display: flex;flex-direction: column;z-index: 1;position: relative;background-color: white;}#sk-container-id-7 div.sk-parallel-item:first-child::after {align-self: flex-end;width: 50%;}#sk-container-id-7 div.sk-parallel-item:last-child::after {align-self: flex-start;width: 50%;}#sk-container-id-7 div.sk-parallel-item:only-child::after {width: 0;}#sk-container-id-7 div.sk-dashed-wrapped {border: 1px dashed gray;margin: 0 0.4em 0.5em 0.4em;box-sizing: border-box;padding-bottom: 0.4em;background-color: white;}#sk-container-id-7 div.sk-label label {font-family: monospace;font-weight: bold;display: inline-block;line-height: 1.2em;}#sk-container-id-7 div.sk-label-container {text-align: center;}#sk-container-id-7 div.sk-container {/* jupyter's `normalize.less` sets `[hidden] { display: none; }` but bootstrap.min.css set `[hidden] { display: none !important; }` so we also need the `!important` here to be able to override the default hidden behavior on the sphinx rendered scikit-learn.org. See: https://github.com/scikit-learn/scikit-learn/issues/21755 */display: inline-block !important;position: relative;}#sk-container-id-7 div.sk-text-repr-fallback {display: none;}</style><div id=\"sk-container-id-7\" class=\"sk-top-container\"><div class=\"sk-text-repr-fallback\"><pre>DecisionTreeRegressor(criterion=&#x27;poisson&#x27;, min_samples_split=10)</pre><b>In a Jupyter environment, please rerun this cell to show the HTML representation or trust the notebook. <br />On GitHub, the HTML representation is unable to render, please try loading this page with nbviewer.org.</b></div><div class=\"sk-container\" hidden><div class=\"sk-item\"><div class=\"sk-estimator sk-toggleable\"><input class=\"sk-toggleable__control sk-hidden--visually\" id=\"sk-estimator-id-7\" type=\"checkbox\" checked><label for=\"sk-estimator-id-7\" class=\"sk-toggleable__label sk-toggleable__label-arrow\">DecisionTreeRegressor</label><div class=\"sk-toggleable__content\"><pre>DecisionTreeRegressor(criterion=&#x27;poisson&#x27;, min_samples_split=10)</pre></div></div></div></div></div>"
      ],
      "text/plain": [
       "DecisionTreeRegressor(criterion='poisson', min_samples_split=10)"
      ]
     },
     "execution_count": 347,
     "metadata": {},
     "output_type": "execute_result"
    }
   ],
   "source": [
    "tree.fit(x_train_maxabs, y_train_maxabs)\n",
    "tree1.fit(x_train_maxabs, y_train_maxabs)\n",
    "tree2.fit(x_train_maxabs, y_train_maxabs)\n",
    "tree3.fit(x_train_maxabs, y_train_maxabs)\n",
    "tree4.fit(x_train_maxabs, y_train_maxabs)\n",
    "tree5.fit(x_train_maxabs, y_train_maxabs)"
   ]
  },
  {
   "cell_type": "code",
   "execution_count": 348,
   "metadata": {},
   "outputs": [],
   "source": [
    "y_tree = tree.predict(x_test_maxabs)\n",
    "y_tree1 =tree1.predict(x_test_maxabs)\n",
    "y_tree2 =tree2.predict(x_test_maxabs)\n",
    "y_tree3 =tree3.predict(x_test_maxabs)\n",
    "y_tree4 =tree4.predict(x_test_maxabs)\n",
    "y_tree5 =tree5.predict(x_test_maxabs)"
   ]
  },
  {
   "cell_type": "code",
   "execution_count": 349,
   "metadata": {},
   "outputs": [],
   "source": [
    "tree_cross = cross_val_score(tree, x_test_maxabs, y_test_minmax, cv=4)\n",
    "tree1_cross = cross_val_score(tree1, x_test_maxabs, y_test_minmax, cv=4)\n",
    "tree2_cross = cross_val_score(tree2, x_test_maxabs, y_test_minmax, cv=4)\n",
    "tree3_cross = cross_val_score(tree3, x_test_maxabs, y_test_minmax, cv=4)\n",
    "tree4_cross = cross_val_score(tree4, x_test_maxabs, y_test_minmax, cv=4)\n",
    "tree5_cross = cross_val_score(tree5, x_test_maxabs, y_test_minmax, cv=4)\n",
    "\n",
    "tree_cross_mean = cross_validate(tree, x_test_maxabs, y_test_minmax, cv=4, scoring=['neg_mean_absolute_error', 'neg_mean_squared_error'])\n",
    "tree1_cross_mean = cross_validate(tree1, x_test_maxabs, y_test_minmax, cv=4, scoring=['neg_mean_absolute_error', 'neg_mean_squared_error'])\n",
    "tree2_cross_mean = cross_validate(tree2, x_test_maxabs, y_test_minmax, cv=4, scoring=['neg_mean_absolute_error', 'neg_mean_squared_error'])\n",
    "tree3_cross_mean = cross_validate(tree3, x_test_maxabs, y_test_minmax, cv=4, scoring=['neg_mean_absolute_error', 'neg_mean_squared_error'])\n",
    "tree4_cross_mean = cross_validate(tree4, x_test_maxabs, y_test_minmax, cv=4, scoring=['neg_mean_absolute_error', 'neg_mean_squared_error'])\n",
    "tree5_cross_mean = cross_validate(tree5, x_test_maxabs, y_test_minmax, cv=4, scoring=['neg_mean_absolute_error', 'neg_mean_squared_error'])"
   ]
  },
  {
   "cell_type": "code",
   "execution_count": 350,
   "metadata": {},
   "outputs": [
    {
     "name": "stdout",
     "output_type": "stream",
     "text": [
      "Mean squared error from all 4 validations for tree [1063.02381456 1030.17535271  988.46750831 1133.60227979]\n",
      "Mean absolute error from all 4 validations for tree [26.81828865 26.19355998 25.28817645 27.25780709]\n",
      "-1.09 accuracy with a standard deviation of 0.06 for tree\n",
      "\n",
      "Mean squared error from all 4 validations for tree1 [1050.3104975   973.09016791 1015.00552369 1080.64184222]\n",
      "Mean absolute error from all 4 validations for tree1 [26.48398291 24.95444428 25.63293524 26.90808834]\n",
      "-1.01 accuracy with a standard deviation of 0.07 for tree1\n",
      "\n",
      "Mean squared error from all 4 validations for tree2 [1073.1759756   986.12591196 1055.62034074 1044.2515837 ]\n",
      "Mean absolute error from all 4 validations for tree2 [26.39768281 25.26096033 26.33896755 26.541079  ]\n",
      "-1.08 accuracy with a standard deviation of 0.06 for tree2\n",
      "\n",
      "Mean squared error from all 4 validations for tree3 [849.7322467  833.95924493 845.4970968  937.18556118]\n",
      "Mean absolute error from all 4 validations for tree3 [23.89480893 23.10769053 23.8256446  24.91811056]\n",
      "-0.69 accuracy with a standard deviation of 0.06 for tree3\n",
      "\n",
      "Mean squared error from all 4 validations for tree4 [877.16905267 861.4942046  860.78801185 957.54614897]\n",
      "Mean absolute error from all 4 validations for tree4 [24.08032739 23.34008489 23.78781623 24.84575632]\n",
      "-0.73 accuracy with a standard deviation of 0.07 for tree4\n",
      "\n",
      "Mean squared error from all 4 validations for tree5 [917.79064368 816.02415571 845.33130826 923.47103027]\n",
      "Mean absolute error from all 4 validations for tree5 [24.66183736 23.20241465 23.8597848  24.606266  ]\n",
      "-0.70 accuracy with a standard deviation of 0.08 for tree5\n",
      "\n"
     ]
    }
   ],
   "source": [
    "print('Mean squared error from all 4 validations for tree',abs(tree_cross_mean['test_neg_mean_squared_error']))\n",
    "print('Mean absolute error from all 4 validations for tree',abs(tree_cross_mean['test_neg_mean_absolute_error']))\n",
    "print(\"%0.2f accuracy with a standard deviation of %0.2f for tree\\n\" % (tree_cross.mean(), tree_cross.std()))\n",
    "\n",
    "print('Mean squared error from all 4 validations for tree1',abs(tree1_cross_mean['test_neg_mean_squared_error']))\n",
    "print('Mean absolute error from all 4 validations for tree1',abs(tree1_cross_mean['test_neg_mean_absolute_error']))\n",
    "print(\"%0.2f accuracy with a standard deviation of %0.2f for tree1\\n\" % (tree1_cross.mean(), tree1_cross.std()))\n",
    "\n",
    "print('Mean squared error from all 4 validations for tree2',abs(tree2_cross_mean['test_neg_mean_squared_error']))\n",
    "print('Mean absolute error from all 4 validations for tree2',abs(tree2_cross_mean['test_neg_mean_absolute_error']))\n",
    "print(\"%0.2f accuracy with a standard deviation of %0.2f for tree2\\n\" % (tree2_cross.mean(), tree2_cross.std()))\n",
    "\n",
    "print('Mean squared error from all 4 validations for tree3',abs(tree3_cross_mean['test_neg_mean_squared_error']))\n",
    "print('Mean absolute error from all 4 validations for tree3',abs(tree3_cross_mean['test_neg_mean_absolute_error']))\n",
    "print(\"%0.2f accuracy with a standard deviation of %0.2f for tree3\\n\" % (tree3_cross.mean(), tree3_cross.std()))\n",
    "\n",
    "print('Mean squared error from all 4 validations for tree4',abs(tree4_cross_mean['test_neg_mean_squared_error']))\n",
    "print('Mean absolute error from all 4 validations for tree4',abs(tree4_cross_mean['test_neg_mean_absolute_error']))\n",
    "print(\"%0.2f accuracy with a standard deviation of %0.2f for tree4\\n\" % (tree4_cross.mean(), tree4_cross.std()))\n",
    "\n",
    "print('Mean squared error from all 4 validations for tree5',abs(tree5_cross_mean['test_neg_mean_squared_error']))\n",
    "print('Mean absolute error from all 4 validations for tree5',abs(tree5_cross_mean['test_neg_mean_absolute_error']))\n",
    "print(\"%0.2f accuracy with a standard deviation of %0.2f for tree5\\n\" % (tree5_cross.mean(), tree5_cross.std()))"
   ]
  }
 ],
 "metadata": {
  "kernelspec": {
   "display_name": "Python 3",
   "language": "python",
   "name": "python3"
  },
  "language_info": {
   "codemirror_mode": {
    "name": "ipython",
    "version": 3
   },
   "file_extension": ".py",
   "mimetype": "text/x-python",
   "name": "python",
   "nbconvert_exporter": "python",
   "pygments_lexer": "ipython3",
   "version": "3.9.13"
  },
  "orig_nbformat": 4
 },
 "nbformat": 4,
 "nbformat_minor": 2
}
